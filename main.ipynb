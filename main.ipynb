{
 "cells": [
  {
   "cell_type": "code",
   "id": "4456737e7b5c81aa",
   "metadata": {},
   "source": [
    "# Test if GPU is available\n",
    "import tensorflow as tf\n",
    "\n",
    "print(tf.config.list_physical_devices('GPU'))"
   ],
   "outputs": [],
   "execution_count": null
  },
  {
   "cell_type": "code",
   "id": "6002b9a8125ad4b1",
   "metadata": {},
   "source": "!git clone https://github.com/tech-srl/code2vec.git",
   "outputs": [],
   "execution_count": null
  },
  {
   "cell_type": "code",
   "id": "c1a77e21ddbe7e55",
   "metadata": {},
   "source": [
    "import os\n",
    "os.chdir('./code2vec')"
   ],
   "outputs": [],
   "execution_count": null
  },
  {
   "cell_type": "code",
   "id": "173d0dd4bea194f3",
   "metadata": {},
   "source": [
    "os.mkdir('train')\n",
    "os.mkdir('validate')\n",
    "os.mkdir('test')"
   ],
   "outputs": [],
   "execution_count": null
  },
  {
   "cell_type": "code",
   "id": "98c1b1bf02d77c93",
   "metadata": {},
   "source": [
    "# total 63 - 48 train, 10 test, 5 validate\n",
    "os.chdir('./train')\n",
    "!git clone https://github.com/Netflix/mantis.git\n",
    "os.chdir('../test')\n",
    "!git clone https://github.com/Netflix/dgs-examples-java.git\n",
    "os.chdir('../validate')\n",
    "!git clone https://github.com/Netflix/zuul.git\n",
    "# total 1 train, 1 test, 1 validate"
   ],
   "outputs": [],
   "execution_count": null
  },
  {
   "cell_type": "code",
   "id": "47c72ae084213d43",
   "metadata": {},
   "source": [
    "os.chdir('../train')\n",
    "!git clone https://github.com/Netflix/metacat.git\n",
    "os.chdir('../test')\n",
    "!git clone https://github.com/Netflix/Priam.git\n",
    "os.chdir('../validate')\n",
    "!git clone https://github.com/Netflix/hollow.git\n",
    "# total 2 train, 2 test, 2 validate"
   ],
   "outputs": [],
   "execution_count": null
  },
  {
   "cell_type": "code",
   "id": "ef9f31a0c0567af9",
   "metadata": {},
   "source": [
    "os.chdir('../train')\n",
    "!git clone https://github.com/Netflix/archaius.git\n",
    "os.chdir('../test')\n",
    "!git clone https://github.com/Netflix/spectator.git\n",
    "os.chdir('../validate')\n",
    "!git clone https://github.com/Netflix/eureka.git\n",
    "# total 3 train, 3 test, 3 validate"
   ],
   "outputs": [],
   "execution_count": null
  },
  {
   "cell_type": "code",
   "id": "55e2bb186e4d9179",
   "metadata": {},
   "source": [
    "os.chdir('../train')\n",
    "!git clone https://github.com/Netflix/iep.git\n",
    "os.chdir('../test')\n",
    "!git clone https://github.com/Netflix/mantis-rxcontrol.git\n",
    "os.chdir('../validate')\n",
    "!git clone https://github.com/Netflix/genie.git\n",
    "# total 4 train, 4 test, 4 validate"
   ],
   "outputs": [],
   "execution_count": null
  },
  {
   "cell_type": "code",
   "id": "c9cb3e4f96d1cef9",
   "metadata": {},
   "source": [
    "os.chdir('../train')\n",
    "!git clone https://github.com/Netflix/dgs-examples-java-2.7.git\n",
    "os.chdir('../test')\n",
    "!git clone https://github.com/Netflix/concurrency-limits.git\n",
    "os.chdir('../validate')\n",
    "!git clone https://github.com/Netflix/mantis-api.git\n",
    "# total 5 train, 5 test, 5 validate DONE"
   ],
   "outputs": [],
   "execution_count": null
  },
  {
   "cell_type": "code",
   "id": "569e8ec5ef489647",
   "metadata": {},
   "source": [
    "os.chdir('../train')\n",
    "!git clone https://github.com/Netflix/photon.git\n",
    "os.chdir('../test')\n",
    "!git clone https://github.com/Netflix/blitz4j.git\n",
    "# total 6 train, 6 test"
   ],
   "outputs": [],
   "execution_count": null
  },
  {
   "cell_type": "code",
   "id": "8eb0636dc6dd2790",
   "metadata": {},
   "source": [
    "os.chdir('../train')\n",
    "!git clone https://github.com/Netflix/ribbon.git\n",
    "os.chdir('../test')\n",
    "!git clone https://github.com/Netflix/karyon.git\n",
    "# total 7 train, 7 test"
   ],
   "outputs": [],
   "execution_count": null
  },
  {
   "cell_type": "code",
   "id": "311bb9104982004",
   "metadata": {},
   "source": [
    "os.chdir('../train')\n",
    "!git clone https://github.com/Netflix/astyanax.git\n",
    "os.chdir('../test')\n",
    "!git clone https://github.com/Netflix/zeno.git\n",
    "# total 8 train, 8 test"
   ],
   "outputs": [],
   "execution_count": null
  },
  {
   "cell_type": "code",
   "id": "7b61a87f831d6036",
   "metadata": {},
   "source": [
    "os.chdir('../train')\n",
    "!git clone https://github.com/Netflix/dynomite-manager.git\n",
    "os.chdir('../test')\n",
    "!git clone https://github.com/Netflix/Raigad.git\n",
    "# total 9 train, 9 test"
   ],
   "outputs": [],
   "execution_count": null
  },
  {
   "cell_type": "code",
   "id": "d460fa434c0fb68",
   "metadata": {},
   "source": [
    "os.chdir('../train')\n",
    "!git clone https://github.com/Netflix/EVCache.git\n",
    "os.chdir('../test')\n",
    "!git clone https://github.com/Netflix/eclipse-jifa.git\n",
    "# total 10 train, 10 test DONE"
   ],
   "outputs": [],
   "execution_count": null
  },
  {
   "cell_type": "code",
   "id": "e4473539a75a3a0f",
   "metadata": {},
   "source": [
    "os.chdir('../train')\n",
    "!git clone https://github.com/Netflix/servo.git\n",
    "!git clone https://github.com/Netflix/netflix-commons.git\n",
    "!git clone https://github.com/Netflix/Hystrix.git\n",
    "!git clone https://github.com/Netflix/dgs-examples-webflux.git\n",
    "!git clone https://github.com/Netflix/dgs-examples-java.latest.git\n",
    "!git clone https://github.com/Netflix/dgs-examples-java16.git\n",
    "!git clone https://github.com/Netflix/governator.git\n",
    "!git clone https://github.com/Netflix/runtime-health.git\n",
    "!git clone https://github.com/Netflix/q.git\n",
    "!git clone https://github.com/Netflix/frigga.git\n",
    "!git clone https://github.com/Netflix/hollow-reference-implementation.git\n",
    "!git clone https://github.com/Netflix/dyno.git\n",
    "!git clone https://github.com/Netflix/Nicobar.git\n",
    "!git clone https://github.com/Netflix/netflix-graph.git\n",
    "!git clone https://github.com/Netflix/denominator.git\n",
    "!git clone https://github.com/Netflix/Turbine.git\n",
    "!git clone https://github.com/Netflix/iceberg.git\n",
    "!git clone https://github.com/Netflix/derand.git\n",
    "!git clone https://github.com/Netflix/mantis-source-jobs.git\n",
    "!git clone https://github.com/Netflix/mantis-control-plane.git\n",
    "!git clone https://github.com/Netflix/mantis-connectors.git\n",
    "!git clone https://github.com/Netflix/mantis-examples.git\n",
    "!git clone https://github.com/Netflix/gradle-template.git\n",
    "!git clone https://github.com/Netflix/recipes-rss.git\n",
    "!git clone https://github.com/Netflix/rx-aws-java-sdk.git\n",
    "!git clone https://github.com/Netflix/edda-client.git\n",
    "!git clone https://github.com/Netflix/ReactiveLab.git\n",
    "!git clone https://github.com/Netflix/fabricator.git\n",
    "!git clone https://github.com/Netflix/reactivesocket-examples.git\n",
    "!git clone https://github.com/Netflix/ocelli.git\n",
    "!git clone https://github.com/Netflix/suro.git\n",
    "!git clone https://github.com/Netflix/CassJMeter.git\n",
    "!git clone https://github.com/Netflix/Surus.git\n",
    "!git clone https://github.com/Netflix/curator.git\n",
    "!git clone https://github.com/Netflix/s3mper.git\n",
    "!git clone https://github.com/Netflix/dyno-queues.git\n",
    "!git clone https://github.com/Netflix/Prana.git\n",
    "!git clone https://github.com/Netflix/staash.git"
   ],
   "outputs": [],
   "execution_count": null
  },
  {
   "cell_type": "code",
   "id": "61036d839cc731a",
   "metadata": {},
   "source": [
    "os.chdir('..')"
   ],
   "outputs": [],
   "execution_count": null
  },
  {
   "cell_type": "code",
   "id": "48205418cdde6641",
   "metadata": {},
   "source": [
    "# Change directories with code dataset\n",
    "with open('preprocess.sh', 'r') as file:\n",
    "    file_contents = file.read()\n",
    "    \n",
    "modified_contents = file_contents.replace('my_train_dir', 'train')\n",
    "modified_contents = modified_contents.replace('my_val_dir', 'validate')\n",
    "modified_contents = modified_contents.replace('my_test_dir', 'test')\n",
    "modified_contents = modified_contents.replace('my_dataset', 'netflix_dataset')\n",
    "\n",
    "with open('preprocess.sh', 'w') as file:\n",
    "    file.write(modified_contents)"
   ],
   "outputs": [],
   "execution_count": null
  },
  {
   "cell_type": "code",
   "id": "4ea03de0d23f34a4",
   "metadata": {},
   "source": [
    "# Prepare data for code2vec train\n",
    "!./preprocess.sh"
   ],
   "outputs": [],
   "execution_count": null
  },
  {
   "cell_type": "code",
   "id": "92dd43553f2dc8ca",
   "metadata": {},
   "source": [
    "# Change dataset name\n",
    "with open('train.sh', 'r') as file:\n",
    "    file_contents = file.read()\n",
    "    \n",
    "modified_contents = file_contents.replace('java14m', 'netflix_dataset')\n",
    "\n",
    "with open('train.sh', 'w') as file:\n",
    "    file.write(modified_contents)"
   ],
   "outputs": [],
   "execution_count": null
  },
  {
   "cell_type": "code",
   "id": "a14421276a1e1421",
   "metadata": {},
   "source": [
    "# Train code2vec\n",
    "!./train.sh"
   ],
   "outputs": [],
   "execution_count": null
  },
  {
   "cell_type": "code",
   "id": "5c81decc786bf1c9",
   "metadata": {},
   "source": [
    "!python3 code2vec.py --load models/netflix_dataset/saved_model_iter19 --release"
   ],
   "outputs": [],
   "execution_count": null
  },
  {
   "cell_type": "code",
   "id": "2a09a998f542c922",
   "metadata": {},
   "source": [
    "!python3 code2vec.py --load models/netflix_dataset/saved_model_iter19.release --test data/netflix_dataset/netflix_dataset.test.c2v"
   ],
   "outputs": [],
   "execution_count": null
  },
  {
   "cell_type": "code",
   "id": "9cf1877be83b3276",
   "metadata": {},
   "source": [
    "!./train.sh"
   ],
   "outputs": [],
   "execution_count": null
  },
  {
   "cell_type": "code",
   "id": "fd73ba2c0ab83c56",
   "metadata": {},
   "source": [
    "# Extract embeddings for labeled data\n",
    "!python3 code2vec.py --load models/netflix_dataset/saved_model_iter19.release --predict --export_code_vectors"
   ],
   "outputs": [],
   "execution_count": null
  },
  {
   "metadata": {},
   "cell_type": "code",
   "source": [
    "import pandas as pd\n",
    "df = pd.read_csv('marked_up_embeddings.csv', delimiter=',')\n",
    "df"
   ],
   "id": "2bb50cb1aaa36ba2",
   "outputs": [],
   "execution_count": null
  },
  {
   "metadata": {},
   "cell_type": "code",
   "source": [
    "df = df.drop(columns='0').replace({value: index for index, value in enumerate(df['1'].unique()) })\n",
    "# 0 - adapter, 1 - builder, 2 - prototype, 3 - singleton, 4 - none"
   ],
   "id": "71efc0333e85e391",
   "outputs": [],
   "execution_count": null
  },
  {
   "metadata": {},
   "cell_type": "code",
   "source": "df",
   "id": "f86d3a1c1d905f06",
   "outputs": [],
   "execution_count": null
  },
  {
   "metadata": {},
   "cell_type": "code",
   "source": [
    "df_train = df.sample(frac=0.8, random_state=160)\n",
    "df_test = df.drop(df_train.index)"
   ],
   "id": "219e9cb85c3a4202",
   "outputs": [],
   "execution_count": null
  },
  {
   "metadata": {},
   "cell_type": "code",
   "source": [
    "# Train classifier\n",
    "from sklearn.linear_model import LogisticRegression\n",
    "logreg = LogisticRegression(random_state=200, max_iter=10000)\n",
    "logreg.fit(df_train.iloc[:, 1:], df_train.iloc[:, 0])"
   ],
   "id": "48510554e24bda98",
   "outputs": [],
   "execution_count": null
  },
  {
   "metadata": {},
   "cell_type": "code",
   "source": [
    "# Save classifier to reuse in server\n",
    "import pickle\n",
    "with open('classifier_config.pkl', 'wb') as f:\n",
    "    pickle.dump(logreg, f)"
   ],
   "id": "b5c92d6bfc1bffdf",
   "outputs": [],
   "execution_count": null
  },
  {
   "metadata": {},
   "cell_type": "code",
   "source": [
    "# General metrics\n",
    "from sklearn.metrics import (\n",
    "    accuracy_score,\n",
    "    precision_score,\n",
    "    recall_score,\n",
    "    f1_score\n",
    ")\n",
    "\n",
    "accuracy = accuracy_score(df_test['1'], df_test['prediction'])\n",
    "precision = precision_score(df_test['1'], df_test['prediction'], average='weighted')\n",
    "f1_score = f1_score(df_test['1'], df_test['prediction'], average='weighted')\n",
    "recall_score = recall_score(df_test['1'], df_test['prediction'], average='weighted')\n",
    "\n",
    "print(f\"Accuracy = {accuracy}\")\n",
    "print(f\"Precision = {precision}\")\n",
    "print(f\"F1 Score = {f1_score}\")\n",
    "print(f\"Recall Score = {recall_score}\")"
   ],
   "id": "f9a81d5c691de06a",
   "outputs": [],
   "execution_count": null
  },
  {
   "metadata": {},
   "cell_type": "code",
   "source": [
    "# Singleton metrics\n",
    "import numpy as np\n",
    "from sklearn.metrics import (\n",
    "    accuracy_score,\n",
    "    precision_score,\n",
    "    recall_score,\n",
    "    f1_score\n",
    ")\n",
    "accuracySingleton = accuracy_score(np.where(df_test['prediction']==3, 1, 0), np.where(df_test['1']==3, 1, 0))\n",
    "precisionSingleton = precision_score(np.where(df_test['prediction']==3, 1, 0), np.where(df_test['1']==3, 1, 0))\n",
    "recallScoreSingleton = recall_score(np.where(df_test['prediction']==3, 1, 0), np.where(df_test['1']==3, 1, 0))\n",
    "f1ScoreSingleton = f1_score(np.where(df_test['prediction']==3, 1, 0), np.where(df_test['1']==3, 1, 0))\n",
    "print(f\"Accuracy Singleton = {accuracySingleton}\")\n",
    "print(f\"Precision Singleton = {precisionSingleton}\")\n",
    "print(f\"Recall Score Singleton = {recallScoreSingleton}\")\n",
    "print(f\"F1 Score Singleton = {f1ScoreSingleton}\")"
   ],
   "id": "2f3a92c4ec573088",
   "outputs": [],
   "execution_count": null
  },
  {
   "metadata": {},
   "cell_type": "code",
   "source": [
    "# Adapter metrics\n",
    "import numpy as np\n",
    "from sklearn.metrics import (\n",
    "    accuracy_score,\n",
    "    precision_score,\n",
    "    recall_score,\n",
    "    f1_score\n",
    ")\n",
    "accuracyAdapter = accuracy_score(np.where(df_test['prediction']==0, 1, 0), np.where(df_test['1']==0, 1, 0))\n",
    "precisionAdapter = precision_score(np.where(df_test['prediction']==0, 1, 0), np.where(df_test['1']==0, 1, 0))\n",
    "recallScoreAdapter = recall_score(np.where(df_test['prediction']==0, 1, 0), np.where(df_test['1']==0, 1, 0))\n",
    "f1ScoreAdapter = f1_score(np.where(df_test['prediction']==0, 1, 0), np.where(df_test['1']==0, 1, 0))\n",
    "print(f\"Accuracy Adapter = {accuracyAdapter}\")\n",
    "print(f\"Precision Adapter = {precisionAdapter}\")\n",
    "print(f\"Recall Score Adapter = {recallScoreAdapter}\")\n",
    "print(f\"F1 Score Adapter = {f1ScoreAdapter}\")"
   ],
   "id": "8577f96998080814",
   "outputs": [],
   "execution_count": null
  },
  {
   "metadata": {},
   "cell_type": "code",
   "source": [
    "# Builder metrics\n",
    "import numpy as np\n",
    "from sklearn.metrics import (\n",
    "    accuracy_score,\n",
    "    precision_score,\n",
    "    recall_score,\n",
    "    f1_score\n",
    ")\n",
    "accuracyBuilder = accuracy_score(np.where(df_test['prediction']==1, 1, 0), np.where(df_test['1']==1, 1, 0))\n",
    "precisionBuilder = precision_score(np.where(df_test['prediction']==1, 1, 0), np.where(df_test['1']==1, 1, 0))\n",
    "recallScoreBuilder = recall_score(np.where(df_test['prediction']==1, 1, 0), np.where(df_test['1']==1, 1, 0))\n",
    "f1ScoreBuilder = f1_score(np.where(df_test['prediction']==1, 1, 0), np.where(df_test['1']==1, 1, 0))\n",
    "print(f\"Accuracy Builder = {accuracyBuilder}\")\n",
    "print(f\"Precision Builder = {precisionBuilder}\")\n",
    "print(f\"Recall Score Builder = {recallScoreBuilder}\")\n",
    "print(f\"F1 Score Builder = {f1ScoreBuilder}\")"
   ],
   "id": "582c3b1e79a558bf",
   "outputs": [],
   "execution_count": null
  },
  {
   "metadata": {},
   "cell_type": "code",
   "source": [
    "# Prototype metrics\n",
    "import numpy as np\n",
    "from sklearn.metrics import (\n",
    "    accuracy_score,\n",
    "    precision_score,\n",
    "    recall_score,\n",
    "    f1_score\n",
    ")\n",
    "accuracyPrototype = accuracy_score(np.where(df_test['prediction']==2, 1, 0), np.where(df_test['1']==2, 1, 0))\n",
    "precisionPrototype = precision_score(np.where(df_test['prediction']==2, 1, 0), np.where(df_test['1']==2, 1, 0))\n",
    "recallScorePrototype = recall_score(np.where(df_test['prediction']==2, 1, 0), np.where(df_test['1']==2, 1, 0))\n",
    "f1ScorePrototype = f1_score(np.where(df_test['prediction']==2, 1, 0), np.where(df_test['1']==2, 1, 0))\n",
    "print(f\"Accuracy Prototype = {accuracyPrototype}\")\n",
    "print(f\"Precision Prototype = {precisionPrototype}\")\n",
    "print(f\"Recall Score Prototype = {recallScorePrototype}\")\n",
    "print(f\"F1 Score Prototype = {f1ScorePrototype}\")"
   ],
   "id": "3d0ef872ad880cf4",
   "outputs": [],
   "execution_count": null
  },
  {
   "metadata": {},
   "cell_type": "code",
   "source": [
    "# None class metrics\n",
    "import numpy as np\n",
    "from sklearn.metrics import (\n",
    "    accuracy_score,\n",
    "    precision_score,\n",
    "    recall_score,\n",
    "    f1_score\n",
    ")\n",
    "accuracyNone = accuracy_score(np.where(df_test['prediction']==4, 1, 0), np.where(df_test['1']==4, 1, 0))\n",
    "precisionNone = precision_score(np.where(df_test['prediction']==4, 1, 0), np.where(df_test['1']==4, 1, 0))\n",
    "recallScoreNone = recall_score(np.where(df_test['prediction']==4, 1, 0), np.where(df_test['1']==4, 1, 0))\n",
    "f1ScoreNone = f1_score(np.where(df_test['prediction']==4, 1, 0), np.where(df_test['1']==4, 1, 0))\n",
    "print(f\"Accuracy None = {accuracyNone}\")\n",
    "print(f\"Precision None = {precisionNone}\")\n",
    "print(f\"Recall Score None = {recallScoreNone}\")\n",
    "print(f\"F1 Score None = {f1ScoreNone}\")"
   ],
   "id": "c6d012d592c47aa",
   "outputs": [],
   "execution_count": null
  }
 ],
 "metadata": {
  "kernelspec": {
   "display_name": "Python 3 (ipykernel)",
   "language": "python",
   "name": "python3"
  },
  "language_info": {
   "codemirror_mode": {
    "name": "ipython",
    "version": 3
   },
   "file_extension": ".py",
   "mimetype": "text/x-python",
   "name": "python",
   "nbconvert_exporter": "python",
   "pygments_lexer": "ipython3",
   "version": "3.11.0rc1"
  }
 },
 "nbformat": 4,
 "nbformat_minor": 5
}
